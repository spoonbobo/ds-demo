{
 "cells": [
  {
   "cell_type": "markdown",
   "id": "737f99bf",
   "metadata": {},
   "source": [
    "# Description"
   ]
  },
  {
   "cell_type": "markdown",
   "id": "0420073a",
   "metadata": {},
   "source": [
    "This notebooks guides you through the procedures to run PeopleNet running inference on 4K videos with DeepStream and minimal configurations"
   ]
  },
  {
   "cell_type": "markdown",
   "id": "dba08a07",
   "metadata": {},
   "source": [
    "## 1. Download Model Files"
   ]
  },
  {
   "cell_type": "code",
   "execution_count": null,
   "id": "f460778f",
   "metadata": {},
   "outputs": [],
   "source": [
    "!cd ../../samples/configs/tlt_pretrained_models && \\\n",
    "    mkdir -p ../../models/tlt_pretrained_models/peoplenet && \\\n",
    "    wget https://api.ngc.nvidia.com/v2/models/nvidia/tlt_peoplenet/versions/pruned_v2.0/files/resnet34_peoplenet_pruned.etlt \\\n",
    "    -O ../../models/tlt_pretrained_models/peoplenet/resnet34_peoplenet_pruned.etlt"
   ]
  },
  {
   "cell_type": "markdown",
   "id": "08675ec2",
   "metadata": {},
   "source": [
    "Verify model files"
   ]
  },
  {
   "cell_type": "code",
   "execution_count": null,
   "id": "21e7e7f6",
   "metadata": {},
   "outputs": [],
   "source": [
    "ls -l ../../samples/models/tlt_pretrained_models"
   ]
  },
  {
   "cell_type": "markdown",
   "id": "b4259d5b",
   "metadata": {},
   "source": [
    "## 2. Source configurations"
   ]
  },
  {
   "cell_type": "markdown",
   "id": "5eec106e",
   "metadata": {},
   "source": [
    "You can select 1) RTSP or 2) prepared videos in the container to run inference on with DeepStream.\n",
    "Refer to https://docs.nvidia.com/metropolis/deepstream/dev-guide/text/DS_ref_app_deepstream.html#source-group for more details.\n",
    "\n",
    "Configure source0 group from samples/configs/tlt_pretrained_models/deepstream_app_source1_peoplenet.txt"
   ]
  },
  {
   "cell_type": "code",
   "execution_count": null,
   "id": "2456ef79",
   "metadata": {},
   "outputs": [],
   "source": [
    "cat ../../samples/configs/tlt_pretrained_models/deepstream_app_source1_peoplenet.txt"
   ]
  },
  {
   "cell_type": "markdown",
   "id": "47ef6d45",
   "metadata": {},
   "source": [
    "### 2.1 RTSP Source"
   ]
  },
  {
   "cell_type": "markdown",
   "id": "9422150e",
   "metadata": {},
   "source": [
    "Expected source0 group from samples/configs/tlt_pretrained_models/deepstream_app_source1_peoplenet.txt:\n",
    "- set type=4\n",
    "\n",
    "- set uri=rtsp://\\<ip>:\\<host>/path      \n"
   ]
  },
  {
   "cell_type": "markdown",
   "id": "ce63da96",
   "metadata": {},
   "source": [
    "You may also create another DeepStream Container to simulate RTSP source. Please refer to deepstream-rtsp-out.ipynb"
   ]
  },
  {
   "cell_type": "markdown",
   "id": "1d98807a",
   "metadata": {},
   "source": [
    "### 2.2 4K Videos in the container"
   ]
  },
  {
   "cell_type": "markdown",
   "id": "d645e58e",
   "metadata": {},
   "source": [
    "Create video source folder"
   ]
  },
  {
   "cell_type": "code",
   "execution_count": null,
   "id": "ccdd1980",
   "metadata": {},
   "outputs": [],
   "source": [
    "!mkdir ../../video-src"
   ]
  },
  {
   "cell_type": "markdown",
   "id": "a250ed47",
   "metadata": {},
   "source": [
    "You may download 4K videos from YouTube"
   ]
  },
  {
   "cell_type": "code",
   "execution_count": null,
   "id": "9b32dabb",
   "metadata": {},
   "outputs": [],
   "source": [
    "!pip install youtube-dl"
   ]
  },
  {
   "cell_type": "markdown",
   "id": "c66e6ac0",
   "metadata": {},
   "source": [
    "In this demo, we choose 2 4K videos which shot amazing street views in Hong Kong\n",
    "- https://www.youtube.com/watch?v=gYO1uk7vIcc\n",
    "- https://www.youtube.com/watch?v=V8nBZbbJePs"
   ]
  },
  {
   "cell_type": "markdown",
   "id": "22ef56bc",
   "metadata": {},
   "source": [
    "To check the formats for those videos:"
   ]
  },
  {
   "cell_type": "code",
   "execution_count": null,
   "id": "c4b14523",
   "metadata": {},
   "outputs": [],
   "source": [
    "!youtube-dl -F https://www.youtube.com/watch?v=V8nBZbbJePs"
   ]
  },
  {
   "cell_type": "markdown",
   "id": "c6e07bd5",
   "metadata": {},
   "source": [
    "We will download vp9 formatted 4K video (313) as av01 formatted video is not supported on DeepStream."
   ]
  },
  {
   "cell_type": "code",
   "execution_count": null,
   "id": "a75f04ed",
   "metadata": {},
   "outputs": [],
   "source": [
    "!cd ../../video-src && \\\n",
    "    youtube-dl -f 313 -o hk_4k.webm https://www.youtube.com/watch?v=V8nBZbbJePs"
   ]
  },
  {
   "cell_type": "markdown",
   "id": "079873fd",
   "metadata": {},
   "source": [
    "Verify video source"
   ]
  },
  {
   "cell_type": "code",
   "execution_count": null,
   "id": "38962f36",
   "metadata": {},
   "outputs": [],
   "source": [
    "!ls -l ../../video-src"
   ]
  },
  {
   "cell_type": "markdown",
   "id": "c97bfb74",
   "metadata": {},
   "source": [
    "Expected source0 group from samples/configs/tlt_pretrained_models/deepstream_app_source1_peoplenet.txt\n",
    "- set type=3\n",
    "\n",
    "- set uri=../../../video-src/\\<video_file>\n"
   ]
  },
  {
   "cell_type": "markdown",
   "id": "d58edf44",
   "metadata": {},
   "source": [
    "### Writing the config file in notebook\n",
    "Run the below cell, replace the first line (**# %load ../../samples/configs/tlt_pretrained_models/deepstream_app_source1_peoplenet.txt**) with **%%writefile ../../samples/configs/tlt_pretrained_models/deepstream_app_source1_peoplenet.txt** at the beginning of the cell after edit"
   ]
  },
  {
   "cell_type": "code",
   "execution_count": null,
   "id": "1d64ea6a",
   "metadata": {},
   "outputs": [],
   "source": [
    "%load ../../samples/configs/tlt_pretrained_models/deepstream_app_source1_peoplenet.txt"
   ]
  },
  {
   "cell_type": "markdown",
   "id": "792ddd13",
   "metadata": {},
   "source": [
    "## 3. Sink (Output) Configurations"
   ]
  },
  {
   "cell_type": "markdown",
   "id": "67244b52",
   "metadata": {},
   "source": [
    "Configure samples/configs/tlt_pretrained_models/deepstream_app_source1_peoplenet.txt"
   ]
  },
  {
   "cell_type": "code",
   "execution_count": null,
   "id": "1ad0fc83",
   "metadata": {},
   "outputs": [],
   "source": [
    "cat ../../samples/configs/tlt_pretrained_models/deepstream_app_source1_peoplenet.txt"
   ]
  },
  {
   "cell_type": "markdown",
   "id": "3a2189d4",
   "metadata": {},
   "source": [
    "### 3.1 Graphical Application"
   ]
  },
  {
   "cell_type": "markdown",
   "id": "3e7a6e9b",
   "metadata": {},
   "source": [
    "Default sink (set enable=1 under sink0 group)"
   ]
  },
  {
   "cell_type": "markdown",
   "id": "fd40d40e",
   "metadata": {},
   "source": [
    "### 3.2 Saved output file"
   ]
  },
  {
   "cell_type": "markdown",
   "id": "8650b13a",
   "metadata": {},
   "source": [
    "To view DeepStream streaming via output file saved, under sink1 group,\n",
    "- set enable=1 \n",
    "- set output-file=path/to/your/out-video  e.g. output-file=out-video/out.mp4"
   ]
  },
  {
   "cell_type": "markdown",
   "id": "c017fbf1",
   "metadata": {},
   "source": [
    "### 3.3 RTSP"
   ]
  },
  {
   "cell_type": "markdown",
   "id": "6bd6ad48",
   "metadata": {},
   "source": [
    "To view DeepStream streaming via RTSP, under sink2 group\n",
    "- set enable=1 \n",
    "- set rtsp=8555\n",
    "- set udp=5401"
   ]
  },
  {
   "cell_type": "markdown",
   "id": "77a455d5",
   "metadata": {},
   "source": [
    "### Writing the config file in notebook\n",
    "Run the below cell, replace the first line (**# %load ../../samples/configs/tlt_pretrained_models/deepstream_app_source1_peoplenet.txt**) with **%%writefile ../../samples/configs/tlt_pretrained_models/deepstream_app_source1_peoplenet.txt** at the beginning of the cell after edit"
   ]
  },
  {
   "cell_type": "code",
   "execution_count": null,
   "id": "51e5bd78",
   "metadata": {},
   "outputs": [],
   "source": [
    "%load ../../samples/configs/tlt_pretrained_models/deepstream_app_source1_peoplenet.txt"
   ]
  },
  {
   "cell_type": "markdown",
   "id": "2ec627ad",
   "metadata": {},
   "source": [
    "## 4. Run DeepStream"
   ]
  },
  {
   "cell_type": "markdown",
   "id": "d7710815",
   "metadata": {},
   "source": [
    "To start DeepStream, run the below cell"
   ]
  },
  {
   "cell_type": "code",
   "execution_count": null,
   "id": "a7e0ee46",
   "metadata": {},
   "outputs": [],
   "source": [
    "!cd ../../samples/configs/tlt_pretrained_models && \\\n",
    "    deepstream-app -c deepstream_app_source1_peoplenet.txt"
   ]
  },
  {
   "cell_type": "markdown",
   "id": "84dadc7a",
   "metadata": {},
   "source": [
    "If you set RTSP as sink, \n",
    "- download vlc media player at https://www.videolan.org/vlc/\n",
    "- open vlc player, press ctrl+N, set network url to your rtsp url set in sink config.\n",
    "- click play\n",
    "\n",
    "* NOTE: Hardware setting e.g. bandwidth, network speed could affect RTSP Streaming \n",
    "\n",
    "DeepStream Runtime commands: P - pause, R - resume, Q - quit\n",
    "\n",
    "DeepStream Runtime Performance will be shown as PERF (FPS)"
   ]
  },
  {
   "cell_type": "markdown",
   "id": "89a1503b",
   "metadata": {},
   "source": [
    "## Technical Support"
   ]
  },
  {
   "cell_type": "markdown",
   "id": "963fd5fe",
   "metadata": {},
   "source": [
    "### Q1: What if I see \"No protocol specified\" as DeepStream failed to run?"
   ]
  },
  {
   "cell_type": "markdown",
   "id": "519cd6af",
   "metadata": {},
   "source": [
    "Answer: your display setting is incorrect. If you are running on remote GPU accelerator like V100, please set the type under sink0 to 1 (Fakesink)"
   ]
  },
  {
   "cell_type": "markdown",
   "id": "f0c5ae4e",
   "metadata": {},
   "source": [
    "Contact NVIDIA HK team for support."
   ]
  },
  {
   "cell_type": "code",
   "execution_count": null,
   "id": "0825b67a",
   "metadata": {},
   "outputs": [],
   "source": []
  }
 ],
 "metadata": {
  "kernelspec": {
   "display_name": "Python 3",
   "language": "python",
   "name": "python3"
  },
  "language_info": {
   "codemirror_mode": {
    "name": "ipython",
    "version": 3
   },
   "file_extension": ".py",
   "mimetype": "text/x-python",
   "name": "python",
   "nbconvert_exporter": "python",
   "pygments_lexer": "ipython3",
   "version": "3.6.9"
  }
 },
 "nbformat": 4,
 "nbformat_minor": 5
}
