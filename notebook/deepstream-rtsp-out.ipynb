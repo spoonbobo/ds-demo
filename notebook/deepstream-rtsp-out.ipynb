{
 "cells": [
  {
   "cell_type": "markdown",
   "id": "737f99bf",
   "metadata": {},
   "source": [
    "# Description"
   ]
  },
  {
   "cell_type": "markdown",
   "id": "0420073a",
   "metadata": {},
   "source": [
    "This notebooks guides you through the procedures to use DeepStream for RTSP Streaming"
   ]
  },
  {
   "cell_type": "markdown",
   "id": "b4259d5b",
   "metadata": {},
   "source": [
    "## 1. Source configurations"
   ]
  },
  {
   "cell_type": "markdown",
   "id": "47ef6d45",
   "metadata": {},
   "source": [
    "### 1.1 RTSP Source"
   ]
  },
  {
   "cell_type": "markdown",
   "id": "9422150e",
   "metadata": {},
   "source": [
    "Expected source0 group from DeepStream application configuration file:\n",
    "- set type=4\n",
    "\n",
    "- set uri=rtsp://\\<ip>:\\<host>/path      \n"
   ]
  },
  {
   "cell_type": "markdown",
   "id": "1d98807a",
   "metadata": {},
   "source": [
    "### 1.2 4K Videos in the container"
   ]
  },
  {
   "cell_type": "markdown",
   "id": "a250ed47",
   "metadata": {},
   "source": [
    "You may use your own videos download 4K videos from YouTube"
   ]
  },
  {
   "cell_type": "markdown",
   "id": "c66e6ac0",
   "metadata": {},
   "source": [
    "In this demo, we prepared 3 4K videos\n",
    "- https://www.youtube.com/watch?v=gYO1uk7vIcc\n",
    "- https://www.youtube.com/watch?v=V8nBZbbJePs\n",
    "- https://www.youtube.com/watch?v=eeBnpgWH2vQ"
   ]
  },
  {
   "cell_type": "code",
   "execution_count": null,
   "id": "fc5dbd54",
   "metadata": {},
   "outputs": [],
   "source": [
    "!ls -l ../../video-src"
   ]
  },
  {
   "cell_type": "markdown",
   "id": "22ef56bc",
   "metadata": {},
   "source": [
    "If you wish to download by yourself, we check the formats for YouTube videos:"
   ]
  },
  {
   "cell_type": "code",
   "execution_count": null,
   "id": "c4b14523",
   "metadata": {},
   "outputs": [],
   "source": [
    "!youtube-dl -F https://www.youtube.com/watch?v=V8nBZbbJePs"
   ]
  },
  {
   "cell_type": "markdown",
   "id": "c6e07bd5",
   "metadata": {},
   "source": [
    "We will download vp9 formatted 4K video as av01 formatted video is not supported on DeepStream.\n",
    "\n",
    "Modify -f flag and YouTube link with reference to previous cell output"
   ]
  },
  {
   "cell_type": "code",
   "execution_count": null,
   "id": "a75f04ed",
   "metadata": {},
   "outputs": [],
   "source": [
    "!cd ../../video-src && \\\n",
    "    youtube-dl -f 313 -o hk_4k.webm https://www.youtube.com/watch?v=V8nBZbbJePs"
   ]
  },
  {
   "cell_type": "markdown",
   "id": "079873fd",
   "metadata": {},
   "source": [
    "Verify video source"
   ]
  },
  {
   "cell_type": "code",
   "execution_count": null,
   "id": "38962f36",
   "metadata": {},
   "outputs": [],
   "source": [
    "!ls -l ../../video-src"
   ]
  },
  {
   "cell_type": "markdown",
   "id": "c97bfb74",
   "metadata": {},
   "source": [
    "Expected source0 group from DeepStream application configuration file:\n",
    "- set type=3\n",
    "\n",
    "- set uri=../video-src/\\<video_file>\n"
   ]
  },
  {
   "cell_type": "markdown",
   "id": "d58edf44",
   "metadata": {},
   "source": [
    "### Writing the config file in notebook\n",
    "Edit the below cell, run the cell after edit and save the file to **../../app-src/deepstream_app_rtsp_source.txt**"
   ]
  },
  {
   "cell_type": "code",
   "execution_count": null,
   "id": "04a7169b",
   "metadata": {},
   "outputs": [],
   "source": [
    "!mkdir ../../app-src"
   ]
  },
  {
   "cell_type": "code",
   "execution_count": null,
   "id": "1d64ea6a",
   "metadata": {},
   "outputs": [],
   "source": [
    "%%writefile ../../app-src/deepstream_app_rtsp_source.txt\n",
    "################################################################################\n",
    "# Copyright (c) 2020, NVIDIA CORPORATION. All rights reserved.\n",
    "#\n",
    "# Permission is hereby granted, free of charge, to any person obtaining a\n",
    "# copy of this software and associated documentation files (the \"Software\"),\n",
    "# to deal in the Software without restriction, including without limitation\n",
    "# the rights to use, copy, modify, merge, publish, distribute, sublicense,\n",
    "# and/or sell copies of the Software, and to permit persons to whom the\n",
    "# Software is furnished to do so, subject to the following conditions:\n",
    "#\n",
    "# The above copyright notice and this permission notice shall be included in\n",
    "# all copies or substantial portions of the Software.\n",
    "#\n",
    "# THE SOFTWARE IS PROVIDED \"AS IS\", WITHOUT WARRANTY OF ANY KIND, EXPRESS OR\n",
    "# IMPLIED, INCLUDING BUT NOT LIMITED TO THE WARRANTIES OF MERCHANTABILITY,\n",
    "# FITNESS FOR A PARTICULAR PURPOSE AND NONINFRINGEMENT.  IN NO EVENT SHALL\n",
    "# THE AUTHORS OR COPYRIGHT HOLDERS BE LIABLE FOR ANY CLAIM, DAMAGES OR OTHER\n",
    "# LIABILITY, WHETHER IN AN ACTION OF CONTRACT, TORT OR OTHERWISE, ARISING\n",
    "# FROM, OUT OF OR IN CONNECTION WITH THE SOFTWARE OR THE USE OR OTHER\n",
    "# DEALINGS IN THE SOFTWARE.\n",
    "################################################################################\n",
    "\n",
    "[application]\n",
    "enable-perf-measurement=1\n",
    "perf-measurement-interval-sec=1\n",
    "\n",
    "[tiled-display]\n",
    "enable=1\n",
    "rows=1\n",
    "columns=1\n",
    "width=1280\n",
    "height=720\n",
    "gpu-id=0\n",
    "\n",
    "[source0]\n",
    "enable=1\n",
    "#Type - 1=CameraV4L2 2=URI 3=MultiURI\n",
    "type=3\n",
    "num-sources=1\n",
    "uri=file://../video-src/hk_4k.webm\n",
    "gpu-id=0\n",
    "\n",
    "[streammux]\n",
    "gpu-id=0\n",
    "batch-size=1\n",
    "batched-push-timeout=40000\n",
    "## Set muxer output width and height\n",
    "width=3840\n",
    "height=2160\n",
    "\n",
    "[sink0]\n",
    "enable=1\n",
    "#Type - 1=FakeSink 2=EglSink 3=File\n",
    "type=1\n",
    "sync=1\n",
    "source-id=0\n",
    "gpu-id=0\n",
    "\n",
    "[osd]\n",
    "enable=0\n",
    "\n",
    "[primary-gie]\n",
    "enable=0\n",
    "\n",
    "[sink1]\n",
    "enable=0\n",
    "type=3\n",
    "#1=mp4 2=mkv\n",
    "container=1\n",
    "#1=h264 2=h265 3=mpeg4\n",
    "codec=1\n",
    "#encoder type 0=Hardware 1=Software\n",
    "enc-type=0\n",
    "sync=0\n",
    "bitrate=2000000\n",
    "#H264 Profile - 0=Baseline 2=Main 4=High\n",
    "#H265 Profile - 0=Main 1=Main10\n",
    "profile=0\n",
    "output-file=out.mp4\n",
    "source-id=0\n",
    "\n",
    "[sink2]\n",
    "enable=1\n",
    "#Type - 1=FakeSink 2=EglSink 3=File 4=RTSPStreaming 5=Overlay\n",
    "type=4\n",
    "#1=h264 2=h265\n",
    "codec=1\n",
    "#encoder type 0=Hardware 1=Software\n",
    "enc-type=0\n",
    "sync=0\n",
    "bitrate=8000000\n",
    "#H264 Profile - 0=Baseline 2=Main 4=High\n",
    "#H265 Profile - 0=Main 1=Main10\n",
    "profile=4\n",
    "# set below properties in case of RTSPStreaming\n",
    "rtsp-port=8554\n",
    "udp-port=5400\n",
    "\n",
    "[tracker]\n",
    "enable=0\n",
    "\n",
    "[tests]\n",
    "file-loop=0\n"
   ]
  },
  {
   "cell_type": "markdown",
   "id": "792ddd13",
   "metadata": {},
   "source": [
    "## 2. Sink (Output) Configurations"
   ]
  },
  {
   "cell_type": "markdown",
   "id": "67244b52",
   "metadata": {},
   "source": [
    "Configure samples/configs/tlt_pretrained_models/deepstream_app_source1_peoplenet.txt"
   ]
  },
  {
   "cell_type": "code",
   "execution_count": null,
   "id": "1ad0fc83",
   "metadata": {},
   "outputs": [],
   "source": [
    "cat ../../app-src/deepstream_app_rtsp_source.txt"
   ]
  },
  {
   "cell_type": "markdown",
   "id": "3a2189d4",
   "metadata": {},
   "source": [
    "### 2.1 Graphical Application"
   ]
  },
  {
   "cell_type": "markdown",
   "id": "3e7a6e9b",
   "metadata": {},
   "source": [
    "Default sink (set enable=1 under sink0 group)"
   ]
  },
  {
   "cell_type": "markdown",
   "id": "fd40d40e",
   "metadata": {},
   "source": [
    "### 2.2 Saved output file"
   ]
  },
  {
   "cell_type": "markdown",
   "id": "8650b13a",
   "metadata": {},
   "source": [
    "To view DeepStream streaming via output file saved, under sink1 group,\n",
    "- set enable=1 \n",
    "- set output-file=path/to/your/out-video  e.g. output-file=out-video/out.mp4"
   ]
  },
  {
   "cell_type": "markdown",
   "id": "c017fbf1",
   "metadata": {},
   "source": [
    "### 2.3 RTSP"
   ]
  },
  {
   "cell_type": "markdown",
   "id": "6bd6ad48",
   "metadata": {},
   "source": [
    "To view DeepStream streaming via RTSP, under sink2 group\n",
    "- set enable=1 "
   ]
  },
  {
   "cell_type": "markdown",
   "id": "77a455d5",
   "metadata": {},
   "source": [
    "### Writing the config file in notebook\n",
    "- Run the below cell\n",
    "- Edit the below cell\n",
    "- After edit, replace first line (**# %load ../../app-src/deepstream_app_rtsp_source.txt**) with **%%writefile ../../app-src/deepstream_app_rtsp_source.txt**\n",
    "- Run the cell after edit to save the file to **../../app-src/deepstream_app_rtsp_source.txt**"
   ]
  },
  {
   "cell_type": "code",
   "execution_count": null,
   "id": "51e5bd78",
   "metadata": {},
   "outputs": [],
   "source": [
    "%load ../../app-src/deepstream_app_rtsp_source.txt"
   ]
  },
  {
   "cell_type": "markdown",
   "id": "2ec627ad",
   "metadata": {},
   "source": [
    "## 3. Run DeepStream"
   ]
  },
  {
   "cell_type": "markdown",
   "id": "d7710815",
   "metadata": {},
   "source": [
    "To start DeepStream, run the below cell"
   ]
  },
  {
   "cell_type": "code",
   "execution_count": null,
   "id": "a7e0ee46",
   "metadata": {},
   "outputs": [],
   "source": [
    "!cd ../../app-src && \\\n",
    "    deepstream-app -c deepstream_app_rtsp_source.txt"
   ]
  },
  {
   "cell_type": "markdown",
   "id": "84dadc7a",
   "metadata": {},
   "source": [
    "If you set RTSP as sink, \n",
    "- download vlc media player at https://www.videolan.org/vlc/\n",
    "- open vlc player, press ctrl+N, set network url to your rtsp url set in sink config.\n",
    "- click play\n",
    "\n",
    "* NOTE: Hardware setting e.g. bandwidth, network speed could affect RTSP Streaming \n",
    "\n",
    "DeepStream Runtime commands: P - pause, R - resume, Q - quit\n",
    "\n",
    "DeepStream Runtime Performance will be shown as PERF (FPS)"
   ]
  },
  {
   "cell_type": "markdown",
   "id": "89a1503b",
   "metadata": {},
   "source": [
    "## Technical Support"
   ]
  },
  {
   "cell_type": "markdown",
   "id": "963fd5fe",
   "metadata": {},
   "source": [
    "### Q1: What if I see \"No protocol specified\" as DeepStream failed to run?"
   ]
  },
  {
   "cell_type": "markdown",
   "id": "519cd6af",
   "metadata": {},
   "source": [
    "Answer: your display setting is incorrect. If you are running on remote GPU accelerator like V100, please set the type under sink0 to 1 (Fakesink)"
   ]
  },
  {
   "cell_type": "markdown",
   "id": "f0c5ae4e",
   "metadata": {},
   "source": [
    "Contact NVIDIA HK team for support."
   ]
  },
  {
   "cell_type": "code",
   "execution_count": null,
   "id": "0825b67a",
   "metadata": {},
   "outputs": [],
   "source": []
  }
 ],
 "metadata": {
  "kernelspec": {
   "display_name": "Python 3",
   "language": "python",
   "name": "python3"
  },
  "language_info": {
   "codemirror_mode": {
    "name": "ipython",
    "version": 3
   },
   "file_extension": ".py",
   "mimetype": "text/x-python",
   "name": "python",
   "nbconvert_exporter": "python",
   "pygments_lexer": "ipython3",
   "version": "3.6.9"
  }
 },
 "nbformat": 4,
 "nbformat_minor": 5
}
