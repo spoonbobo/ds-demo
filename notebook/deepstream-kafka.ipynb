{
 "cells": [
  {
   "cell_type": "markdown",
   "id": "638a5aba",
   "metadata": {},
   "source": [
    "## Description\n",
    "\n",
    "This notebook will guide you through setting up Kafka Server from scratch for DeepStream to send or retrieve messages from cloud."
   ]
  },
  {
   "cell_type": "markdown",
   "id": "e98a15af",
   "metadata": {},
   "source": [
    "## 0. Prerequisites"
   ]
  },
  {
   "cell_type": "markdown",
   "id": "0745157c",
   "metadata": {},
   "source": [
    "Install Java >= 8"
   ]
  },
  {
   "cell_type": "code",
   "execution_count": null,
   "id": "4b802ed6",
   "metadata": {},
   "outputs": [],
   "source": [
    "!apt-get update && apt install default-jre -y"
   ]
  },
  {
   "cell_type": "markdown",
   "id": "7e31fadb",
   "metadata": {},
   "source": [
    "## 1. Download Kafka"
   ]
  },
  {
   "cell_type": "code",
   "execution_count": null,
   "id": "97ad122a",
   "metadata": {},
   "outputs": [],
   "source": [
    "!mkdir ../../kafka"
   ]
  },
  {
   "cell_type": "code",
   "execution_count": null,
   "id": "c798376d",
   "metadata": {},
   "outputs": [],
   "source": [
    "!wget https://apache.website-solution.net/kafka/2.8.0/kafka_2.13-2.8.0.tgz -P ../../kafka"
   ]
  },
  {
   "cell_type": "code",
   "execution_count": null,
   "id": "458215ff",
   "metadata": {},
   "outputs": [],
   "source": [
    "!tar -xvzf ../../kafka/kafka_2.13-2.8.0.tgz -C ../../kafka"
   ]
  },
  {
   "cell_type": "markdown",
   "id": "e5babbc1",
   "metadata": {},
   "source": [
    "## 2. Start ZooKeeper service"
   ]
  },
  {
   "cell_type": "markdown",
   "id": "2c74dbcd",
   "metadata": {},
   "source": [
    "Open a terminal in Jupyter (the interface where you select the notebook) and execute below commands"
   ]
  },
  {
   "cell_type": "raw",
   "id": "9dcaf2fd",
   "metadata": {},
   "source": [
    "cd ../../kafka/kafka_2.13-2.8.0\n",
    "bin/zookeeper-server-start.sh config/zookeeper.properties"
   ]
  },
  {
   "cell_type": "markdown",
   "id": "eefa7bf9",
   "metadata": {},
   "source": [
    "## 3. Start Kafka server"
   ]
  },
  {
   "cell_type": "markdown",
   "id": "46b847c8",
   "metadata": {},
   "source": [
    "we need to set up ports before start Kafka server."
   ]
  },
  {
   "cell_type": "markdown",
   "id": "e19ac080",
   "metadata": {},
   "source": [
    "* listeners=PLAINTEXT://127.0.0.1:29092, PLAINTEXT_HOST://\\<your-host-ip>:9092\n",
    "* advertised.listeners=PLAINTEXT://127.0.0.1:29092, PLAINTEXT_HOST://\\<your-host-ip>:9092\n",
    "* listener.security.protocol.map=PLAINTEXT:PLAINTEXT,PLAINTEXT_HOST:PLAINTEXT,SSL:SSL,SASL_PLAINTEXT:SASL_PLAINTEXT,SASL_SSL:SASL_SSL\n",
    "* zookeeper.connect=\\<your-host-ip>:2181"
   ]
  },
  {
   "cell_type": "markdown",
   "id": "9c0b4b43",
   "metadata": {},
   "source": [
    "#### Configure server properties"
   ]
  },
  {
   "cell_type": "markdown",
   "id": "28d2cb01",
   "metadata": {},
   "source": [
    "* Run the below cell\n",
    "* Replace first line (**# %load ../../kafka/kafka_2.13-2.8.0/config/server.properties**) with (%%writefile ../../kafka/kafka_2.13-2.8.0/config/server.properties)\n",
    "* Execute again"
   ]
  },
  {
   "cell_type": "code",
   "execution_count": null,
   "id": "9bdbb25c",
   "metadata": {},
   "outputs": [],
   "source": [
    "%load ../../kafka/kafka_2.13-2.8.0/config/server.properties"
   ]
  },
  {
   "cell_type": "markdown",
   "id": "dd6ccdcb",
   "metadata": {},
   "source": [
    "After the config is ready, open another terminal in Jupyter notebook and execute below commands"
   ]
  },
  {
   "cell_type": "raw",
   "id": "adeae651",
   "metadata": {},
   "source": [
    "cd ../../kafka/kafka_2.13-2.8.0\n",
    "bin/kafka-server-start.sh config/server.properties"
   ]
  },
  {
   "cell_type": "markdown",
   "id": "9dadb998",
   "metadata": {},
   "source": [
    "## 4. Create topics"
   ]
  },
  {
   "cell_type": "markdown",
   "id": "574fb6ad",
   "metadata": {},
   "source": [
    "The Kafka server is set up at this stage. Open another terminal and execute below commands. \n",
    "*NOTE: remember to change the placeholder with your values."
   ]
  },
  {
   "cell_type": "raw",
   "id": "0acaa0a7",
   "metadata": {},
   "source": [
    "cd ../../kafka/kafka_2.13-2.8.0\n",
    "bin/kafka-topics.sh --create --topic <name> --bootstrap-server <host>:9092"
   ]
  },
  {
   "cell_type": "markdown",
   "id": "21810dab",
   "metadata": {},
   "source": [
    "If you want to check current topics exist in the server, execute below commands"
   ]
  },
  {
   "cell_type": "raw",
   "id": "191a565a",
   "metadata": {},
   "source": [
    "bin/kafka-topics.sh --list --bootstrap-server <your-host-ip>:9092"
   ]
  },
  {
   "cell_type": "markdown",
   "id": "a0de7e15",
   "metadata": {},
   "source": [
    "## 5. What's next"
   ]
  },
  {
   "cell_type": "markdown",
   "id": "9dd2a6b9",
   "metadata": {},
   "source": [
    "Keep the terminals being opened, select either one of those demos\n",
    "\n",
    "* **deepstream-d2c.ipynb**\n",
    "    * This demo notebook guides you through sending metadata from edge AI devices (e.g. AGX Xavier) to Kafka server in parallel with DeepStream pipeline.\n",
    "    \n",
    "    \n",
    "* **deepstream-svr.ipynb**\n",
    "    * This demo notebook guides you through how to format the metadata sent from edge AI devices and send messages for AGX Xavier to consume.\n",
    "    "
   ]
  },
  {
   "cell_type": "code",
   "execution_count": null,
   "id": "dcefcb62",
   "metadata": {},
   "outputs": [],
   "source": []
  }
 ],
 "metadata": {
  "kernelspec": {
   "display_name": "Python 3",
   "language": "python",
   "name": "python3"
  },
  "language_info": {
   "codemirror_mode": {
    "name": "ipython",
    "version": 3
   },
   "file_extension": ".py",
   "mimetype": "text/x-python",
   "name": "python",
   "nbconvert_exporter": "python",
   "pygments_lexer": "ipython3",
   "version": "3.6.9"
  }
 },
 "nbformat": 4,
 "nbformat_minor": 5
}
