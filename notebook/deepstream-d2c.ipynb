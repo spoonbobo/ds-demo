{
 "cells": [
  {
   "cell_type": "markdown",
   "id": "588f0e17",
   "metadata": {},
   "source": [
    "## Description\n",
    "\n",
    "This demo notebook guides you through sending metadata from edge AI devices (e.g. AGX Xavier) to Kafka server in parallel with DeepStream pipeline."
   ]
  },
  {
   "cell_type": "markdown",
   "id": "32438710",
   "metadata": {},
   "source": [
    "## Prerequisites"
   ]
  },
  {
   "cell_type": "markdown",
   "id": "57eca1a8",
   "metadata": {},
   "source": [
    "Follow deepstream-kafka.ipynb notebook to set up Kafka server"
   ]
  },
  {
   "cell_type": "markdown",
   "id": "dbbe8f50",
   "metadata": {},
   "source": [
    "## 1. Compile the source code"
   ]
  },
  {
   "cell_type": "code",
   "execution_count": null,
   "id": "73824640",
   "metadata": {},
   "outputs": [],
   "source": [
    "!cd ../../sources/apps/sample_apps/deepstream-test4/ && export CUDA_VER=11.1 && make"
   ]
  },
  {
   "cell_type": "markdown",
   "id": "1373a632",
   "metadata": {},
   "source": [
    "## 2. Run DeepStream to produce event messages"
   ]
  },
  {
   "cell_type": "code",
   "execution_count": null,
   "id": "b6a4b160",
   "metadata": {},
   "outputs": [],
   "source": [
    "!cd ../../sources/apps/sample_apps/deepstream-test4/ && \\\n",
    "    ./deepstream-test4-app -i /opt/nvidia/deepstream/deepstream/samples/streams/sample_720p.h264 -p /opt/nvidia/deepstream/deepstream/lib/libnvds_kafka_proto.so  --conn-str=\"<your-host-ip>;9092\" --topic=\"<your-created-topic>\" -s 0"
   ]
  },
  {
   "cell_type": "markdown",
   "id": "d6488334",
   "metadata": {},
   "source": [
    "## 3. Consume event messages"
   ]
  },
  {
   "cell_type": "code",
   "execution_count": null,
   "id": "7f6279e4",
   "metadata": {},
   "outputs": [],
   "source": [
    "%%writefile ../../kafka/consumer.py\n",
    "import time\n",
    "from kafka import KafkaConsumer\n",
    "from json import loads\n",
    "import uuid\n",
    "\n",
    "consumer = KafkaConsumer(\n",
    "    '<your-created-topic>',\n",
    "    bootstrap_servers='<your-host-ip>:9092',\n",
    "    auto_offset_reset='latest',\n",
    "    enable_auto_commit=True,\n",
    "    group_id=str(uuid.uuid1()),\n",
    "    value_deserializer=lambda x: loads(x.decode('utf-8'))\n",
    ")\n",
    "\n",
    "# do a dummy poll to retrieve some message\n",
    "consumer.poll()\n",
    "\n",
    "# go to end of the stream\n",
    "consumer.seek_to_end()\n",
    "\n",
    "for event in consumer:\n",
    "    event_data = event.value\n",
    "    print(event_data)"
   ]
  },
  {
   "cell_type": "code",
   "execution_count": null,
   "id": "71bea673",
   "metadata": {},
   "outputs": [],
   "source": [
    "!pip install kafka-python\n",
    "!python3 ../../kafka/consumer.py"
   ]
  },
  {
   "cell_type": "code",
   "execution_count": null,
   "id": "ce827f9e",
   "metadata": {},
   "outputs": [],
   "source": []
  }
 ],
 "metadata": {
  "kernelspec": {
   "display_name": "Python 3",
   "language": "python",
   "name": "python3"
  },
  "language_info": {
   "codemirror_mode": {
    "name": "ipython",
    "version": 3
   },
   "file_extension": ".py",
   "mimetype": "text/x-python",
   "name": "python",
   "nbconvert_exporter": "python",
   "pygments_lexer": "ipython3",
   "version": "3.6.9"
  }
 },
 "nbformat": 4,
 "nbformat_minor": 5
}
